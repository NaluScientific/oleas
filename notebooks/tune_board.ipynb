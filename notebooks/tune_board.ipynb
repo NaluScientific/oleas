{
 "cells": [
  {
   "cell_type": "code",
   "execution_count": 1,
   "metadata": {},
   "outputs": [],
   "source": [
    "%load_ext autoreload\n",
    "%autoreload 2\n",
    "\n",
    "from naludaq.board import Board, startup_board\n",
    "import numpy as np\n",
    "import time\n",
    "\n",
    "from naludaq.tools.pedestals import get_pedestals_controller\n",
    "from naludaq.controllers import get_dac_controller, get_board_controller, get_gainstage_controller, get_readout_controller\n",
    "from naludaq.parsers import get_parser\n",
    "from naludaq.communication.analog_registers import AnalogRegisters\n",
    "from naludaq.tools.waiter import EventWaiter\n",
    "from naludaq.daq import DebugDaq\n",
    "\n",
    "from oleas.helpers import (\n",
    "    readout,\n",
    ")"
   ]
  },
  {
   "attachments": {},
   "cell_type": "markdown",
   "metadata": {},
   "source": [
    "### Function Definition"
   ]
  },
  {
   "cell_type": "code",
   "execution_count": 2,
   "metadata": {},
   "outputs": [],
   "source": [
    "def read_events(board, daq, amount):\n",
    "    bc = get_board_controller(board)\n",
    "    buffer = daq.output_buffer\n",
    "    output = []\n",
    "\n",
    "    for _ in range(amount):\n",
    "        bc.toggle_trigger()\n",
    "\n",
    "        for _ in range(5):\n",
    "            try:\n",
    "                waiter = EventWaiter(buffer, amount=1, timeout=1, interval=0.005)\n",
    "                waiter.start(blocking=True)\n",
    "                output.append(buffer.popleft())\n",
    "            except (TimeoutError, IndexError):\n",
    "                print('Failed to get event, trying again...')\n",
    "                bc.toggle_trigger()\n",
    "                continue\n",
    "            else:\n",
    "                break\n",
    "        else:\n",
    "            print('Maximum number of attempts reached. Aborting.')\n",
    "    return output"
   ]
  },
  {
   "cell_type": "markdown",
   "metadata": {},
   "source": [
    "### Connect Board"
   ]
  },
  {
   "cell_type": "code",
   "execution_count": 3,
   "metadata": {},
   "outputs": [
    {
     "name": "stdout",
     "output_type": "stream",
     "text": [
      "Trying [115200, 1000000, 2000000, 3000000]\n"
     ]
    }
   ],
   "source": [
    "SERIAL = \"210357B4B30CB\" # CHANGE ME\n",
    "\n",
    "board = Board(\"aodsoc_aods\")\n",
    "board.load_registers()\n",
    "board.get_ftdi_connection(serial_number=SERIAL, baud=3000000)\n",
    "startup_board(board)\n",
    "dc = get_dac_controller(board)\n",
    "gsc = get_gainstage_controller(board)\n",
    "ar = AnalogRegisters(board)\n",
    "\n",
    "gsc.ch0_external_input()\n",
    "gsc.ch1_8x_ch0()\n",
    "gsc.ch2_8x_ch1()\n",
    "\n",
    "READ_WINDOW = {\n",
    "    'windows': 40,\n",
    "    'lookback': 40,\n",
    "    'write_after_trig': 20,\n",
    "}"
   ]
  },
  {
   "attachments": {},
   "cell_type": "markdown",
   "metadata": {},
   "source": [
    "Try to keep isel between 2000 - 3000\n",
    "DAC Value can be between 0 - 4095\n",
    "\n",
    "The provided values should be a good starting point for tuning the board parameters\n",
    "\n",
    "The DAC value has a larger impact to CH2 compared to CH0, so try adjusting the DAC value to first\n",
    "\n",
    "get CH2 to about 2048, then start changing ISEL & DAC value to get both CH0 and CH2 close to 2048"
   ]
  },
  {
   "cell_type": "code",
   "execution_count": 23,
   "metadata": {},
   "outputs": [
    {
     "name": "stdout",
     "output_type": "stream",
     "text": [
      "Channel 0 Avg: 2017.678671875\n",
      "Channel 1 Avg: 2086.238671875\n",
      "Channel 2 Avg: 2025.6446875\n"
     ]
    }
   ],
   "source": [
    "# Run this code block modifying the DAC_VALUE and ISEL values to tune CH2 and CH0 avg to 2048.\n",
    "\n",
    "DAC_VALUE = 2098 # Try to adjust in steps of 5 at first\n",
    "ISEL = 2652 \n",
    "\n",
    "dc.set_dacs(DAC_VALUE)\n",
    "ar.write('isel', ISEL)\n",
    "\n",
    "with readout(board, READ_WINDOW) as daq:\n",
    "    events = read_events(board, daq, amount=5)\n",
    "print(f\"Channel 0 Avg: {np.mean([event['data'][0] for event in events])}\")\n",
    "print(f\"Channel 1 Avg: {np.mean([event['data'][1] for event in events])}\")\n",
    "print(f\"Channel 2 Avg: {np.mean([event['data'][2] for event in events])}\")"
   ]
  },
  {
   "cell_type": "code",
   "execution_count": null,
   "metadata": {},
   "outputs": [],
   "source": [
    "board.disconnect()"
   ]
  }
 ],
 "metadata": {
  "kernelspec": {
   "display_name": "nalu-dev",
   "language": "python",
   "name": "python3"
  },
  "language_info": {
   "codemirror_mode": {
    "name": "ipython",
    "version": 3
   },
   "file_extension": ".py",
   "mimetype": "text/x-python",
   "name": "python",
   "nbconvert_exporter": "python",
   "pygments_lexer": "ipython3",
   "version": "3.9.12"
  },
  "orig_nbformat": 4,
  "vscode": {
   "interpreter": {
    "hash": "19aafdb373e9c9f5f579aba7283426ef4b21b1116573b1fcfac821e6343cfbff"
   }
  }
 },
 "nbformat": 4,
 "nbformat_minor": 2
}
