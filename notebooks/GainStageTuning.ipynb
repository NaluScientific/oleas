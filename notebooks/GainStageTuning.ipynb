{
 "cells": [
  {
   "cell_type": "markdown",
   "metadata": {},
   "source": [
    "# AODSOC AODS Gainstage Tuning"
   ]
  },
  {
   "cell_type": "markdown",
   "metadata": {},
   "source": [
    "## Setup"
   ]
  },
  {
   "cell_type": "code",
   "execution_count": null,
   "metadata": {},
   "outputs": [],
   "source": [
    "import time\n",
    "\n",
    "import matplotlib.pyplot as plt\n",
    "\n",
    "from naludaq.backend import AcquisitionManager\n",
    "from naludaq.board import Board, startup_board\n",
    "from naludaq.communication import AnalogRegisters, ControlRegisters, DigitalRegisters\n",
    "from naludaq.controllers import get_board_controller, get_readout_controller\n",
    "from naludaq.controllers import get_dac_controller, get_gainstage_controller\n",
    "from naludaq.parsers import get_parser\n",
    "from naludaq.tools.ftdi import list_ftdi_devices\n",
    "from naludaq.tools.optimizers.gainstagetuner import GainStageTuner\n",
    "\n",
    "import matplotlib\n",
    "\n",
    "cmap = matplotlib.cm.get_cmap('viridis')\n",
    "matplotlib.rcParams.update({\"font.size\": 18})\n",
    "matplotlib.rcParams.update({\"font.family\": \"monospace\"})\n",
    "\n",
    "%load_ext autoreload\n",
    "%autoreload 2"
   ]
  },
  {
   "cell_type": "code",
   "execution_count": null,
   "metadata": {},
   "outputs": [],
   "source": [
    "BOARD_MODEL = \"aodsoc_aods\"\n",
    "BOARD = Board(BOARD_MODEL)\n",
    "BOARD.load_registers()"
   ]
  },
  {
   "cell_type": "markdown",
   "id": "c9a46e53",
   "metadata": {},
   "source": [
    "### Function Definitions"
   ]
  },
  {
   "cell_type": "code",
   "execution_count": null,
   "id": "47b5e66b",
   "metadata": {},
   "outputs": [],
   "source": [
    "def get_parsed_event(board, readout_settings: tuple = (1, 1, 1), timeout: int = 3):\n",
    "    parser = get_parser(board.params)\n",
    "    (window, lb, wat) = readout_settings\n",
    "    get_readout_controller(BOARD).set_read_window(window, lb, wat)\n",
    "    with AcquisitionManager(BOARD).create_temporary() as acq:\n",
    "        acq.set_output()\n",
    "        bc = get_board_controller(BOARD)\n",
    "        bc.start_readout(\n",
    "            trig=\"imm\",\n",
    "            lb=\"forced\",\n",
    "            singleEv=True,\n",
    "        )\n",
    "        time.sleep(1)\n",
    "        bc.stop_readout()\n",
    "        evt = acq[0]\n",
    "    parsed_evt = parser.parse(evt)\n",
    "    return parsed_evt"
   ]
  },
  {
   "cell_type": "markdown",
   "id": "8424c5ac",
   "metadata": {},
   "source": [
    "## Startup Board + Useful Objects"
   ]
  },
  {
   "cell_type": "code",
   "execution_count": null,
   "id": "037c2fb3",
   "metadata": {},
   "outputs": [],
   "source": [
    "print(list_ftdi_devices())"
   ]
  },
  {
   "cell_type": "code",
   "execution_count": null,
   "metadata": {},
   "outputs": [],
   "source": [
    "possible_bauds = BOARD.params[\"possible_bauds\"].keys()\n",
    "speeds = sorted(possible_bauds, reverse=True)\n",
    "FASTEST = speeds[-1]\n",
    "BOARD.start_server(output_dir=\"./\")\n",
    "BOARD.connect_d2xx(serial_number=\"210357B45D4FB\", baud=FASTEST)\n",
    "startup_board(BOARD)\n",
    "\n",
    "AR = AnalogRegisters(BOARD)\n",
    "CR = ControlRegisters(BOARD)\n",
    "DR = DigitalRegisters(BOARD)"
   ]
  },
  {
   "cell_type": "markdown",
   "id": "61dfd00c",
   "metadata": {},
   "source": [
    "## Set Gainstage"
   ]
  },
  {
   "cell_type": "code",
   "execution_count": null,
   "id": "424e0732",
   "metadata": {},
   "outputs": [],
   "source": [
    "GSC = get_gainstage_controller(BOARD, chip_number=0)\n",
    "GSC.ch0_external_input()\n",
    "GSC.ch1_8x_ch0()\n",
    "GSC.ch2_8x_ch1()\n",
    "GSC.ch3_8x_ch2()\n",
    "gains = GSC.compute_gains()\n",
    "print(\n",
    "    f\"CHIP 0:\"\n",
    "    f\"ch0=ch{gains[0][0]} x {gains[0][1]}\\n\",\n",
    "    f\"ch1=ch{gains[1][0]} x {gains[1][1]}\\n\",\n",
    "    f\"ch2=ch{gains[2][0]} x {gains[2][1]}\\n\",\n",
    "    f\"ch3=ch{gains[3][0]} x {gains[3][1]}\\n\",\n",
    "    f\"ext=ch{gains[4][0]} x {gains[4][1]}\",\n",
    ")"
   ]
  },
  {
   "cell_type": "code",
   "execution_count": null,
   "id": "d5546468",
   "metadata": {},
   "outputs": [],
   "source": [
    "GSC = get_gainstage_controller(BOARD, chip_number=1)\n",
    "GSC.ch0_external_input()\n",
    "GSC.ch1_8x_ch0()\n",
    "GSC.ch2_8x_ch1()\n",
    "GSC.ch3_8x_ch2()\n",
    "gains = GSC.compute_gains()\n",
    "print(\n",
    "    f\"CHIP 1:\"\n",
    "    f\"ch0=ch{gains[0][0]} x {gains[0][1]}\\n\",\n",
    "    f\"ch1=ch{gains[1][0]} x {gains[1][1]}\\n\",\n",
    "    f\"ch2=ch{gains[2][0]} x {gains[2][1]}\\n\",\n",
    "    f\"ch3=ch{gains[3][0]} x {gains[3][1]}\\n\",\n",
    "    f\"ext=ch{gains[4][0]} x {gains[4][1]}\",\n",
    ")"
   ]
  },
  {
   "cell_type": "markdown",
   "id": "b670c1cb",
   "metadata": {},
   "source": [
    "## Plot Before Tuning"
   ]
  },
  {
   "cell_type": "code",
   "execution_count": null,
   "id": "8db55ea8",
   "metadata": {},
   "outputs": [],
   "source": [
    "evt = get_parsed_event(BOARD, (2,2,2))"
   ]
  },
  {
   "cell_type": "code",
   "execution_count": null,
   "id": "fc2e6ecf",
   "metadata": {},
   "outputs": [],
   "source": [
    "fig = plt.figure(figsize=(8,5), constrained_layout=True)\n",
    "fig.clear()\n",
    "plt.xlabel(\"Sample Number\")\n",
    "plt.ylabel(\"ADC Counts\")\n",
    "plt.title(f\"Before Tuning\")\n",
    "data = evt[\"data\"]\n",
    "for channel, data in enumerate(data):\n",
    "    color = cmap(channel/8)\n",
    "    plt.plot(data, \".-\", ms=8, color=color, label=f\"Channel {channel}\")\n",
    "plt.legend(ncols=2, fontsize=10, loc=\"upper right\")\n",
    "plt.grid()\n",
    "plt.show()"
   ]
  },
  {
   "cell_type": "markdown",
   "id": "0ad039db",
   "metadata": {},
   "source": [
    "## Gainstage Tuning"
   ]
  },
  {
   "cell_type": "code",
   "execution_count": null,
   "id": "79515b16",
   "metadata": {},
   "outputs": [],
   "source": [
    "DAC_BOUNDS = [2000, 2300]\n",
    "ISEL_BOUNDS = [2520, 2750]\n",
    "BOUNDS = {'x': DAC_BOUNDS, 'y': ISEL_BOUNDS}\n",
    "GST = GainStageTuner(BOARD, BOUNDS)\n",
    "GST.chip = 0\n",
    "GST.events_per_probe = 2\n",
    "GST.run(n_iter=50)\n",
    "tuning_0 = GST.tuning"
   ]
  },
  {
   "cell_type": "code",
   "execution_count": null,
   "id": "ef9e631b",
   "metadata": {},
   "outputs": [],
   "source": [
    "DAC_BOUNDS = [2000, 2300]\n",
    "ISEL_BOUNDS = [2520, 2750]\n",
    "BOUNDS = {'x': DAC_BOUNDS, 'y': ISEL_BOUNDS}\n",
    "GST = GainStageTuner(BOARD, BOUNDS)\n",
    "GST.chip = 1\n",
    "GST.events_per_probe = 2\n",
    "GST.run(n_iter=50)\n",
    "tuning_1 = GST.tuning"
   ]
  },
  {
   "cell_type": "code",
   "execution_count": null,
   "id": "2127a4c4",
   "metadata": {},
   "outputs": [],
   "source": [
    "# # Copy the values for channels and isel into a yml\n",
    "print(f\"channels:\")\n",
    "print(f\"0..3: {tuning_0['dac']}\")\n",
    "print(f\"4..7: {tuning_1['dac']}\")\n",
    "print(f\"isel:\\nvalue: [{tuning_0['isel']}, {tuning_1['isel']}]\")"
   ]
  },
  {
   "cell_type": "markdown",
   "id": "2b14f271",
   "metadata": {},
   "source": [
    "### Set new tuning values"
   ]
  },
  {
   "cell_type": "code",
   "execution_count": null,
   "id": "5d4a852a",
   "metadata": {},
   "outputs": [],
   "source": [
    "AnalogRegisters(BOARD, 0).write(\"isel\", tuning_0['isel'])\n",
    "AnalogRegisters(BOARD, 1).write(\"isel\", tuning_1['isel'])\n",
    "get_dac_controller(BOARD).set_dacs(tuning_0['dac'], [0, 1, 2, 3])\n",
    "get_dac_controller(BOARD).set_dacs(tuning_1['dac'], [4, 5, 6, 7])"
   ]
  },
  {
   "cell_type": "markdown",
   "id": "4e71d053",
   "metadata": {},
   "source": [
    "## Plot After Tuning"
   ]
  },
  {
   "cell_type": "code",
   "execution_count": null,
   "id": "df08f481",
   "metadata": {},
   "outputs": [],
   "source": [
    "evt = get_parsed_event(BOARD, (2,2,2))"
   ]
  },
  {
   "cell_type": "code",
   "execution_count": null,
   "id": "2c8383de",
   "metadata": {},
   "outputs": [],
   "source": [
    "fig = plt.figure(figsize=(8,5), constrained_layout=True)\n",
    "fig.clear()\n",
    "plt.xlabel(\"Sample Number\")\n",
    "plt.ylabel(\"ADC Counts\")\n",
    "plt.title(f\"After Tuning\")\n",
    "data = evt[\"data\"]\n",
    "for channel, data in enumerate(data):\n",
    "    color = cmap(channel/8)\n",
    "    plt.plot(data, \".-\", ms=8, color=color, label=f\"Channel {channel}\")\n",
    "\n",
    "plt.legend(ncols=2, fontsize=10, loc=\"upper right\")\n",
    "plt.grid()\n",
    "plt.show()"
   ]
  },
  {
   "cell_type": "code",
   "execution_count": null,
   "id": "21605b54",
   "metadata": {},
   "outputs": [],
   "source": [
    "BOARD.disconnect()\n",
    "BOARD.disconnect_server()\n",
    "plt.close('all')"
   ]
  }
 ],
 "metadata": {
  "kernelspec": {
   "display_name": "nalu-dev",
   "language": "python",
   "name": "python3"
  },
  "language_info": {
   "codemirror_mode": {
    "name": "ipython",
    "version": 3
   },
   "file_extension": ".py",
   "mimetype": "text/x-python",
   "name": "python",
   "nbconvert_exporter": "python",
   "pygments_lexer": "ipython3",
   "version": "3.9.16"
  }
 },
 "nbformat": 4,
 "nbformat_minor": 5
}
